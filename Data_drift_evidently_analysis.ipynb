{
 "cells": [
  {
   "cell_type": "markdown",
   "id": "3e92eb14-fdb7-4ccb-a915-3d4318956695",
   "metadata": {},
   "source": [
    "Data drift analysis using evidently library, between application_train (reference dataset) and application_test (current dataset under analysis)."
   ]
  },
  {
   "cell_type": "code",
   "execution_count": 161,
   "id": "b813520c-e0c8-42e8-9117-df4bb61d9e0a",
   "metadata": {},
   "outputs": [],
   "source": [
    "#pip install evidently"
   ]
  },
  {
   "cell_type": "code",
   "execution_count": 162,
   "id": "88327437-5a59-43cb-bf43-7b0552390dc6",
   "metadata": {},
   "outputs": [],
   "source": [
    "import pandas as pd\n",
    "from sklearn import datasets\n",
    "\n",
    "from evidently import Dataset\n",
    "from evidently import DataDefinition\n",
    "from evidently import Report\n",
    "from evidently.presets import DataSummaryPreset"
   ]
  },
  {
   "cell_type": "code",
   "execution_count": 163,
   "id": "f3365546-5757-46b0-8306-4a65ef186063",
   "metadata": {},
   "outputs": [],
   "source": [
    "# Load reference and current datasets for data drift Evidently analysis\n",
    "reference_dataset = pd.read_csv('./data/application_train.csv')\n",
    "current_dataset = pd.read_csv('./data/application_test.csv')\n",
    "reference_dataset.drop(columns=\"TARGET\", inplace=True)"
   ]
  },
  {
   "cell_type": "code",
   "execution_count": 164,
   "id": "a7bdc3a3-a434-49a1-9a7c-2b837c87df1c",
   "metadata": {},
   "outputs": [
    {
     "data": {
      "text/plain": [
       "((307511, 121), (48744, 121))"
      ]
     },
     "execution_count": 164,
     "metadata": {},
     "output_type": "execute_result"
    }
   ],
   "source": [
    "# Check reference and current datasets shape\n",
    "reference_dataset.shape, current_dataset.shape"
   ]
  },
  {
   "cell_type": "code",
   "execution_count": 165,
   "id": "bcd1ea09-9b7a-4842-93d6-85efc317d786",
   "metadata": {},
   "outputs": [
    {
     "data": {
      "text/plain": [
       "True"
      ]
     },
     "execution_count": 165,
     "metadata": {},
     "output_type": "execute_result"
    }
   ],
   "source": [
    "# Check all columns have same dtypes in reference and current datasets\n",
    "reference_dataset.dtypes.to_list() == current_dataset.dtypes.to_list()"
   ]
  },
  {
   "cell_type": "code",
   "execution_count": 166,
   "id": "7a3b0942-33fe-436c-9a06-6e7da8b9934d",
   "metadata": {},
   "outputs": [
    {
     "data": {
      "text/plain": [
       "array([dtype('int64'), dtype('O'), dtype('float64')], dtype=object)"
      ]
     },
     "execution_count": 166,
     "metadata": {},
     "output_type": "execute_result"
    }
   ],
   "source": [
    "# Categories of features\n",
    "reference_dataset.dtypes.unique()"
   ]
  },
  {
   "cell_type": "code",
   "execution_count": 167,
   "id": "da25d434-792d-4e11-9d2c-239ab32a68ec",
   "metadata": {},
   "outputs": [
    {
     "data": {
      "text/plain": [
       "SK_ID_CURR                      int64\n",
       "NAME_CONTRACT_TYPE             object\n",
       "CODE_GENDER                    object\n",
       "FLAG_OWN_CAR                   object\n",
       "FLAG_OWN_REALTY                object\n",
       "                               ...   \n",
       "AMT_REQ_CREDIT_BUREAU_DAY     float64\n",
       "AMT_REQ_CREDIT_BUREAU_WEEK    float64\n",
       "AMT_REQ_CREDIT_BUREAU_MON     float64\n",
       "AMT_REQ_CREDIT_BUREAU_QRT     float64\n",
       "AMT_REQ_CREDIT_BUREAU_YEAR    float64\n",
       "Length: 121, dtype: object"
      ]
     },
     "execution_count": 167,
     "metadata": {},
     "output_type": "execute_result"
    }
   ],
   "source": [
    "reference_dataset.dtypes"
   ]
  },
  {
   "cell_type": "code",
   "execution_count": 168,
   "id": "6a22f5b9-a08d-4f19-8ddd-9a2f363dd477",
   "metadata": {},
   "outputs": [],
   "source": [
    "# Extract a list of numerical and categorical features\n",
    "numerical_columns = []\n",
    "categorical_columns = []\n",
    "for col, typ in zip(reference_dataset.columns, reference_dataset.dtypes):    \n",
    "    if typ in [\"int64\", \"float64\"]:\n",
    "        numerical_columns.append(col)\n",
    "    else:\n",
    "        categorical_columns.append(col)"
   ]
  },
  {
   "cell_type": "code",
   "execution_count": 169,
   "id": "436a1813-be13-48b3-9a57-77c6a655df29",
   "metadata": {},
   "outputs": [],
   "source": [
    "schema = DataDefinition(\n",
    "    numerical_columns=numerical_columns,\n",
    "    categorical_columns=categorical_columns,\n",
    "    )"
   ]
  },
  {
   "cell_type": "code",
   "execution_count": 170,
   "id": "d6661839-d62e-49d2-a166-23efb731803d",
   "metadata": {},
   "outputs": [],
   "source": [
    "eval_ref = Dataset.from_pandas(\n",
    "    pd.DataFrame(reference_dataset),\n",
    "    data_definition=schema\n",
    ")"
   ]
  },
  {
   "cell_type": "code",
   "execution_count": 171,
   "id": "582b8418-3c07-478f-813b-8763376e1c9d",
   "metadata": {},
   "outputs": [],
   "source": [
    "eval_cur = Dataset.from_pandas(\n",
    "    pd.DataFrame(current_dataset),\n",
    "    data_definition=schema\n",
    ")"
   ]
  },
  {
   "cell_type": "code",
   "execution_count": 159,
   "id": "500a0789-88e9-4432-a233-bee8aeb68fa1",
   "metadata": {},
   "outputs": [],
   "source": [
    "report = Report([DataSummaryPreset()], include_tests=\"True\")\n",
    "my_eval = report.run(eval_ref, eval_cur)"
   ]
  },
  {
   "cell_type": "code",
   "execution_count": 160,
   "id": "97de6855-56c4-4bce-8a63-4db7859e5c68",
   "metadata": {},
   "outputs": [],
   "source": [
    "my_eval.save_html(\"data_drift_analysis.html\")"
   ]
  }
 ],
 "metadata": {
  "kernelspec": {
   "display_name": "Python 3 (ipykernel)",
   "language": "python",
   "name": "python3"
  },
  "language_info": {
   "codemirror_mode": {
    "name": "ipython",
    "version": 3
   },
   "file_extension": ".py",
   "mimetype": "text/x-python",
   "name": "python",
   "nbconvert_exporter": "python",
   "pygments_lexer": "ipython3",
   "version": "3.12.7"
  }
 },
 "nbformat": 4,
 "nbformat_minor": 5
}
